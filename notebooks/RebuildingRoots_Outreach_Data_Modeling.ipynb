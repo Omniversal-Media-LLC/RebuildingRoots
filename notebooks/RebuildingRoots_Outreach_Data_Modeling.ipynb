{
 "cells": [
  {
   "cell_type": "markdown",
   "id": "058c6aae-100a-44de-b276-ad255ffff2b2",
   "metadata": {},
   "source": [
    "# Rebuilding Roots Outreach Data Modeling\n",
    "\n",
    "*Supporting the EM.B.R.A.C.E. Networking Web*\n",
    "\n",
    "This notebook is a planning and prototyping space to define, model, and export data about our partner network. Our goal is to create a clear, consistent, and trauma-informed format for partner profiles that can be used throughout the repo.\n",
    "\n",
    "Theme: Regeneration. Clarity. Real-world readiness.  \n",
    "Soundtrack: Nahko - *Take Your Power Back* 🎶\n"
   ]
  },
  {
   "cell_type": "markdown",
   "id": "a632b869-a3f7-44df-a2e8-1f6718422ab5",
   "metadata": {},
   "source": [
    "## 🌱 Purpose\n",
    "\n",
    "- Define the data model for partner profiles\n",
    "- Test and refine categories and fields\n",
    "- Generate example data\n",
    "- Prepare for export to CSV or JSON for use in the repo\n",
    "\n",
    "## ✨ Goals\n",
    "\n",
    "✅ Build consistent partner records  \n",
    "✅ Support category-based organization  \n",
    "✅ Enable easy Markdown generation later  \n",
    "✅ Ensure trauma-informed, sustainable language and framing\n"
   ]
  },
  {
   "cell_type": "code",
   "execution_count": null,
   "id": "cc00782c-3c26-475d-bc2b-9ad75197dd55",
   "metadata": {},
   "outputs": [],
   "source": [
    "# Basic imports\n",
    "import pandas as pd\n",
    "import json\n",
    "\n",
    "print(\"Environment ready for data modeling ✨\")\n"
   ]
  },
  {
   "cell_type": "markdown",
   "id": "4f57ccbb-e381-417f-a428-ee174406ffcb",
   "metadata": {},
   "source": [
    "## 📜 Draft Partner Profile Fields\n",
    "\n",
    "Let's brainstorm the initial set of fields for each partner.\n",
    "\n",
    "**Required fields**:\n",
    "- name\n",
    "- contact_email\n",
    "- category\n",
    "- mission_statement\n",
    "- trauma_informed_practices\n",
    "- partnership_vision\n",
    "- notes\n",
    "\n",
    "**Optional fields**:\n",
    "- phone\n",
    "- website\n",
    "- social_links\n",
    "- address\n",
    "- active_projects\n"
   ]
  },
  {
   "cell_type": "code",
   "execution_count": null,
   "id": "129909d2-ca20-41ac-a8da-6e1473419b54",
   "metadata": {},
   "outputs": [],
   "source": [
    "# Define the partner schema as a list of fields\n",
    "partner_fields = [\n",
    "    \"name\",\n",
    "    \"contact_email\",\n",
    "    \"category\",\n",
    "    \"mission_statement\",\n",
    "    \"trauma_informed_practices\",\n",
    "    \"partnership_vision\",\n",
    "    \"notes\",\n",
    "    \"phone\",\n",
    "    \"website\",\n",
    "    \"social_links\",\n",
    "    \"address\",\n",
    "    \"active_projects\"\n",
    "]\n",
    "\n",
    "print(\"Partner schema fields defined:\")\n",
    "for field in partner_fields:\n",
    "    print(f\"- {field}\")\n"
   ]
  },
  {
   "cell_type": "code",
   "execution_count": null,
   "id": "0071b459-43fb-4248-be49-2c3ad7c6fc54",
   "metadata": {},
   "outputs": [],
   "source": [
    "# Create a sample DataFrame with one example partner\n",
    "example_data = [{\n",
    "    \"name\": \"Hotbox Outreach\",\n",
    "    \"contact_email\": \"contact@hotboxoutreach.org\",\n",
    "    \"category\": \"Outreach / Harm Reduction\",\n",
    "    \"mission_statement\": \"Reducing harm through direct outreach and mutual aid.\",\n",
    "    \"trauma_informed_practices\": \"Consent-based service, active listening, peer leadership.\",\n",
    "    \"partnership_vision\": \"Collaborate on regenerative community projects.\",\n",
    "    \"notes\": \"High priority partner for pilot model.\",\n",
    "    \"phone\": \"555-555-1234\",\n",
    "    \"website\": \"https://hotboxoutreach.org\",\n",
    "    \"social_links\": \"https://instagram.com/hotboxoutreach\",\n",
    "    \"address\": \"N/A\",\n",
    "    \"active_projects\": \"Mobile outreach, safe use kits.\"\n",
    "}]\n",
    "\n",
    "df_partners = pd.DataFrame(example_data)\n",
    "df_partners\n"
   ]
  },
  {
   "cell_type": "code",
   "execution_count": null,
   "id": "16ec8283-42ea-4512-b4e0-86742c6ba0f4",
   "metadata": {},
   "outputs": [],
   "source": [
    "# Export example data\n",
    "df_partners.to_csv(\"example_partners.csv\", index=False)\n",
    "with open(\"example_partners.json\", \"w\") as f:\n",
    "    json.dump(example_data, f, indent=2)\n",
    "\n",
    "print(\"Example data saved as CSV and JSON ✅\")\n"
   ]
  },
  {
   "cell_type": "markdown",
   "id": "4654dfe1-85c7-4c8b-835f-5f66dc1f3032",
   "metadata": {},
   "source": [
    "## 🪷 Reflections & Next Steps\n",
    "\n",
    "- Review schema with Renee and Sage\n",
    "- Add categories for grouping partners\n",
    "- Create bulk import templates\n",
    "- Build Markdown generator using this data\n",
    "\n",
    "*“Take Your Power Back.” - Remember the vision. Stay aligned.* 🎶\n"
   ]
  },
  {
   "cell_type": "code",
   "execution_count": null,
   "id": "ee979edb-cf86-40e1-925a-56ddc29f41dc",
   "metadata": {},
   "outputs": [],
   "source": [
    "# Add a few more sample partners\n",
    "more_example_data = [\n",
    "    {\n",
    "        \"name\": \"Rebuilding Roots Sanctuary\",\n",
    "        \"contact_email\": \"hello@rebuildingroots.org\",\n",
    "        \"category\": \"Land-based Regeneration\",\n",
    "        \"mission_statement\": \"Providing a trauma-informed, sustainable refuge and teaching site.\",\n",
    "        \"trauma_informed_practices\": \"Consensus decision-making, healing circles, reciprocal care.\",\n",
    "        \"partnership_vision\": \"Co-develop training and land projects with allied orgs.\",\n",
    "        \"notes\": \"Foundational partner.\",\n",
    "        \"phone\": \"\",\n",
    "        \"website\": \"https://rebuildingroots.org\",\n",
    "        \"social_links\": \"\",\n",
    "        \"address\": \"\",\n",
    "        \"active_projects\": \"Sanctuary site planning, outreach pilot.\"\n",
    "    },\n",
    "    {\n",
    "        \"name\": \"Omniversal Media\",\n",
    "        \"contact_email\": \"contact@omniversalmedia.org\",\n",
    "        \"category\": \"Media / Storytelling\",\n",
    "        \"mission_statement\": \"Supporting authentic narrative and regenerative communication.\",\n",
    "        \"trauma_informed_practices\": \"Consent-based interviews, participant review.\",\n",
    "        \"partnership_vision\": \"Share stories of partner work and amplify outreach.\",\n",
    "        \"notes\": \"Handles podcast + documentary planning.\",\n",
    "        \"phone\": \"\",\n",
    "        \"website\": \"https://omniversalmedia.org\",\n",
    "        \"social_links\": \"\",\n",
    "        \"address\": \"\",\n",
    "        \"active_projects\": \"Podcast series, partner video profiles.\"\n",
    "    }\n",
    "]\n",
    "\n",
    "# Append to the existing example\n",
    "example_data.extend(more_example_data)\n",
    "df_partners = pd.DataFrame(example_data)\n",
    "df_partners\n"
   ]
  },
  {
   "cell_type": "code",
   "execution_count": null,
   "id": "410069de-ae15-4c7f-b1aa-a658da421da3",
   "metadata": {},
   "outputs": [],
   "source": [
    "# Group partners by category\n",
    "df_partners.groupby(\"category\").size()\n"
   ]
  },
  {
   "cell_type": "code",
   "execution_count": null,
   "id": "721ca9eb-e477-4b13-ba93-4736721e5c24",
   "metadata": {},
   "outputs": [],
   "source": [
    "# Filter by a category\n",
    "outreach_partners = df_partners[df_partners[\"category\"].str.contains(\"Outreach\", case=False)]\n",
    "outreach_partners\n"
   ]
  },
  {
   "cell_type": "markdown",
   "id": "925e7582-9957-48cc-b7a4-67cb723fadd9",
   "metadata": {},
   "source": [
    "## 🗂️ Partner Categories\n",
    "\n",
    "Let's clarify categories for consistent use:\n",
    "\n",
    "- Outreach / Harm Reduction\n",
    "- Land-based Regeneration\n",
    "- Media / Storytelling\n",
    "- Education / Training\n",
    "- Mutual Aid / Direct Support\n",
    "- Art / Culture\n",
    "- Policy / Advocacy\n"
   ]
  },
  {
   "cell_type": "code",
   "execution_count": null,
   "id": "6e3f137d-2591-4fbc-bcfa-3a23faec0076",
   "metadata": {},
   "outputs": [],
   "source": [
    "# Check for missing categories\n",
    "df_partners[df_partners[\"category\"].isnull() | (df_partners[\"category\"] == \"\")]\n"
   ]
  },
  {
   "cell_type": "code",
   "execution_count": null,
   "id": "64fee26c-e18f-40a1-a6fa-f3bba0abf9a5",
   "metadata": {},
   "outputs": [],
   "source": [
    "# Add a tags column to support multiple labels\n",
    "df_partners[\"tags\"] = [\n",
    "    \"harm reduction, mutual aid\",\n",
    "    \"regeneration, land, sanctuary\",\n",
    "    \"media, storytelling, outreach\"\n",
    "]\n",
    "\n",
    "df_partners\n"
   ]
  },
  {
   "cell_type": "code",
   "execution_count": null,
   "id": "c42070d1-168f-42db-825d-3c876cd42e0b",
   "metadata": {},
   "outputs": [],
   "source": [
    "# Save updated multi-partner dataset\n",
    "df_partners.to_csv(\"partners_dataset.csv\", index=False)\n",
    "with open(\"partners_dataset.json\", \"w\") as f:\n",
    "    json.dump(example_data, f, indent=2)\n",
    "\n",
    "print(\"Full partner dataset saved ✅\")\n"
   ]
  }
 ],
 "metadata": {
  "kernelspec": {
   "display_name": "Python 3 (ipykernel)",
   "language": "python",
   "name": "python3"
  },
  "language_info": {
   "codemirror_mode": {
    "name": "ipython",
    "version": 3
   },
   "file_extension": ".py",
   "mimetype": "text/x-python",
   "name": "python",
   "nbconvert_exporter": "python",
   "pygments_lexer": "ipython3",
   "version": "3.12.5"
  },
  "widgets": {
   "application/vnd.jupyter.widget-state+json": {
    "state": {},
    "version_major": 2,
    "version_minor": 0
   }
  }
 },
 "nbformat": 4,
 "nbformat_minor": 5
}
